{
 "cells": [
  {
   "cell_type": "code",
   "execution_count": null,
   "metadata": {},
   "outputs": [],
   "source": [
    "from scipy.linalg import norm\n",
    "from scipy.spatial.transform import Rotation as R\n",
    "from sklearn.neighbors import NearestNeighbors\n",
    "import gzip\n",
    "import numpy as np\n",
    "import pandas as pd\n",
    "import matplotlib.pyplot as plt\n",
    "import cv2\n",
    "\n",
    "import glob\n",
    "import os"
   ]
  },
  {
   "cell_type": "code",
   "execution_count": null,
   "metadata": {},
   "outputs": [],
   "source": [
    "%run data_loaders/scannet_render_loader.py"
   ]
  },
  {
   "cell_type": "code",
   "execution_count": null,
   "metadata": {},
   "outputs": [],
   "source": [
    "SCENE_NAME = 'scene0000_00'"
   ]
  },
  {
   "cell_type": "code",
   "execution_count": null,
   "metadata": {},
   "outputs": [],
   "source": [
    "def get_sorted_scene_files(files):\n",
    "    files = glob.glob(os.path.join('data', SCENE_NAME, files))\n",
    "    files.sort()\n",
    "    return files"
   ]
  },
  {
   "cell_type": "code",
   "execution_count": null,
   "metadata": {},
   "outputs": [],
   "source": [
    "##-- Check Poses --##\n",
    "pose_files = get_sorted_scene_files(os.path.join('pose', '*.txt'))\n",
    "\n",
    "print('loaded', len(pose_files), 'poses')"
   ]
  },
  {
   "cell_type": "code",
   "execution_count": null,
   "metadata": {},
   "outputs": [],
   "source": [
    "def get_train_val_split(pose_files, skip, max_index=len(pose_files), stride=1):\n",
    "    pose_files = pose_files[0:max_index:stride]\n",
    "    train_filenames = [pose_files[i] for i in range(len(pose_files)) if (i % skip) != 0]\n",
    "    val_filenames = [pose_files[i] for i in range(len(pose_files)) if (i % skip) == 0]\n",
    "    \n",
    "    return train_filenames, val_filenames"
   ]
  },
  {
   "cell_type": "code",
   "execution_count": null,
   "metadata": {},
   "outputs": [],
   "source": [
    "def load_poses(pose_files):\n",
    "    rots = []\n",
    "    ts = []\n",
    "    for file in pose_files:\n",
    "        with open(file) as csv_file:\n",
    "            data = pd.read_csv(csv_file, delimiter=' ', index_col=None, header=None)\n",
    "            \n",
    "            rot = np.array(data.values[0:3,0:3])\n",
    "            t = np.array(data.values[0:3,-1])\n",
    "            rots.append(rot)\n",
    "            ts.append(t)\n",
    "    return rots, ts"
   ]
  },
  {
   "cell_type": "code",
   "execution_count": null,
   "metadata": {},
   "outputs": [],
   "source": [
    "def get_nn_indices(neighbors, items):\n",
    "    neigh = NearestNeighbors(n_neighbors=1)\n",
    "    neigh.fit(neighbors)\n",
    "\n",
    "    neigh_dist, neigh_index = neigh.kneighbors(items)\n",
    "    \n",
    "    return neigh_index"
   ]
  },
  {
   "cell_type": "code",
   "execution_count": null,
   "metadata": {},
   "outputs": [],
   "source": [
    "def get_rotvecs_from_matrices(rots):\n",
    "    rotvecs = []\n",
    "    for rot in rots:\n",
    "        rotvecs.append(R.from_matrix(rot).as_rotvec())\n",
    "    \n",
    "    return rotvecs"
   ]
  },
  {
   "cell_type": "code",
   "execution_count": null,
   "metadata": {},
   "outputs": [],
   "source": [
    "def unit_vector(vector):\n",
    "    \"\"\" Returns the unit vector of the vector.  \"\"\"\n",
    "    return vector / np.linalg.norm(vector)\n",
    "\n",
    "def angle_between(v1, v2):\n",
    "    \"\"\" Returns the angle in radians between vectors 'v1' and 'v2'::\n",
    "\n",
    "            >>> angle_between((1, 0, 0), (0, 1, 0))\n",
    "            1.5707963267948966\n",
    "            >>> angle_between((1, 0, 0), (1, 0, 0))\n",
    "            0.0\n",
    "            >>> angle_between((1, 0, 0), (-1, 0, 0))\n",
    "            3.141592653589793\n",
    "    \"\"\"\n",
    "    v1_u = unit_vector(v1)\n",
    "    v2_u = unit_vector(v2)\n",
    "    return np.arccos(np.clip(np.dot(v1_u, v2_u), -1.0, 1.0))\n",
    "\n",
    "\n",
    "#angles = []\n",
    "#for i, val_rot in enumerate(val_rots):\n",
    "#    angle = get_angle(val_rot, train_rots[nn_indices[i,0]])\n",
    "#    angles.append(np.rad2deg(angle))\n",
    "#\n",
    "#print(angles)"
   ]
  },
  {
   "cell_type": "code",
   "execution_count": null,
   "metadata": {},
   "outputs": [],
   "source": [
    "# Load train and validation poses\n",
    "def get_val_nn_train_angles(train_rots, val_rots, unit='deg'):\n",
    "    # Transform to axis representation\n",
    "    train_rotvecs = get_rotvecs_from_matrices(train_rots)\n",
    "    val_rotvecs = get_rotvecs_from_matrices(val_rots)\n",
    "\n",
    "    # Find nearest neighbors by angle\n",
    "    nn_indices = get_nn_indices(train_rotvecs, val_rotvecs)\n",
    "\n",
    "    # Get angles to nearest neighbords in degrees\n",
    "    angles = []\n",
    "    for i, val_rotvec in enumerate(val_rotvecs):\n",
    "        angle = angle_between(val_rotvec, train_rotvecs[nn_indices[i,0]])\n",
    "        if unit == 'deg':\n",
    "            angle = np.rad2deg(angle)\n",
    "        angles.append(angle)\n",
    "    \n",
    "    return angles"
   ]
  },
  {
   "cell_type": "code",
   "execution_count": null,
   "metadata": {},
   "outputs": [],
   "source": [
    "##-- Check Texture Coords --##\n",
    "#uv_files = get_sorted_scene_files(os.path.join('uv', 'scene_nonbinary_vertexuv_flat_proj', '*'))\n",
    "uv_files = glob.glob(os.path.join('..', 'texturemaprender', 'output', '*.gz'))\n",
    "uv_files.sort()\n",
    "print('loaded', len(uv_files), 'uv files')"
   ]
  },
  {
   "cell_type": "code",
   "execution_count": null,
   "metadata": {},
   "outputs": [],
   "source": [
    "##-- Visualize Texture Coords --##\n",
    "_SCREEN_HEIGHT, _SCREEN_WIDTH, _UV_CHANNELS = 968, 1296, 3\n",
    "\n",
    "def load_texture_coord(file, compressed=True):\n",
    "    if compressed:\n",
    "        # Decompress texture coordinate file into a numpy array\n",
    "        with gzip.open(file, 'rb') as f:\n",
    "            uv_image = np.frombuffer(f.read(), dtype='float32')\n",
    "            print('loading and decompressing')\n",
    "    else:\n",
    "        uv_image = np.fromfile(uv_image_path, dtype='float32')\n",
    "        print('loading')    \n",
    "\n",
    "    uv_image = np.reshape(uv_image, (_SCREEN_HEIGHT, _SCREEN_WIDTH, _UV_CHANNELS))\n",
    "    uv_image = np.flip(uv_image, axis=0).copy()\n",
    "    \n",
    "    return uv_image\n",
    "        \n",
    "def visualize_texture_coord(uv_image):\n",
    "    uv_color_image = np.zeros((_SCREEN_HEIGHT, _SCREEN_WIDTH, _UV_CHANNELS))\n",
    "    uv_color_image[:,:,0:_UV_CHANNELS] = uv_image\n",
    "    \n",
    "    # Should assert that rows * cols == len(title) == len(display_images)\n",
    "    plt.figure(figsize=(10, 10))\n",
    "    plt.subplot(1, 1, 1)\n",
    "    # getting the pixel values between [0, 1] to plot it.\n",
    "    plt.imshow(uv_color_image)\n",
    "    plt.show()\n",
    "\n",
    "def visualize_texture_coord_mask(uv_image):\n",
    "    uv_color_image = uv_image[:,:,-1]\n",
    "    \n",
    "    # Should assert that rows * cols == len(title) == len(display_images)\n",
    "    plt.figure(figsize=(10, 10))\n",
    "    plt.subplot(1, 1, 1)\n",
    "    # getting the pixel values between [0, 1] to plot it.\n",
    "    plt.imshow(uv_color_image, cmap='binary')\n",
    "    plt.show()\n",
    "    \n",
    "def print_texture_coord_chunk(uv_image):\n",
    "    print(uv_image[100:110, 1286:1296])"
   ]
  },
  {
   "cell_type": "code",
   "execution_count": null,
   "metadata": {},
   "outputs": [],
   "source": [
    "uv_image = load_texture_coord(uv_files[0])\n",
    "visualize_texture_coord(uv_image)\n",
    "visualize_texture_coord_mask(uv_image)\n",
    "#print_texture_coord_chunk(uv_image)"
   ]
  },
  {
   "cell_type": "code",
   "execution_count": null,
   "metadata": {},
   "outputs": [],
   "source": [
    "# Display results\n",
    "tv_files = [None]*4\n",
    "tv_files[0] = get_train_val_split(pose_files, 6, 2700, 1)\n",
    "tv_files[1] = get_train_val_split(pose_files, 6, 2700, 2)\n",
    "tv_files[2] = get_train_val_split(pose_files, 6, 2700, 4)\n",
    "tv_files[3] = get_train_val_split(pose_files, 6, 2700, 8)\n",
    "\n",
    "title = 'Train:Val = {}:{} samples \\n (min, max, mean) = ({:.1f}, {:.1f}, {:.1f})'\n",
    "\n",
    "plt.figure(figsize=(15,4))\n",
    "for i in range(len(tv_files)):\n",
    "    train_files, val_files = tv_files[i]\n",
    "    train_rots, _ = load_poses(train_files)\n",
    "    val_rots, _ = load_poses(val_files)\n",
    "    angles = get_val_nn_train_angles(train_rots, val_rots, unit='deg')\n",
    "    \n",
    "    #print('Min:', np.min(angles))\n",
    "    #print('Max:', np.max(angles))\n",
    "    #print('Mean:', np.mean(angles))\n",
    "    \n",
    "    plt.subplot(1, len(tv_files), i+1)\n",
    "    plt.title(title.format(len(train_files), len(val_files), np.min(angles), np.max(angles), np.mean(angles)))\n",
    "    num_bins = 20\n",
    "    plt.hist(angles, bins=num_bins)\n",
    "    plt.xlabel('degrees')\n",
    "    plt.ylabel('count')\n",
    "plt.show()"
   ]
  },
  {
   "cell_type": "code",
   "execution_count": null,
   "metadata": {},
   "outputs": [],
   "source": [
    "#win = np.array([[0, 1, 0], [1, -4, 1], [0, 1, 0]])\n",
    "#filtered = signal.convolve(sig, win, mode='same') / sum(win)\n",
    "\n",
    "loader = UVDataLoader('data', 1, True, 6, size=(1296, 968)).split_validation()#size=(256, 342))\n",
    "for batch_idx, (data, target) in enumerate(loader):\n",
    "    #for train_id in train_ids:    \n",
    "        \n",
    "    #sift = cv2.SIFT()\n",
    "    detector = cv2.xfeatures2d.SIFT_create()\n",
    "    #detector = cv2.FastFeatureDetector_create()\n",
    "    #orb = cv2.ORB()\n",
    "    #target = np.zeros((256, 256,3), np.uint8)\n",
    "    original = (0.5 * target[0,:,:,:].permute(1, 2, 0).numpy() + 0.5) * 255\n",
    "    original = original.astype(np.uint8)\n",
    "    original = cv2.cvtColor(original, cv2.COLOR_RGB2BGR)\n",
    "    original = cv2.cvtColor(original, cv2.COLOR_BGR2RGB)\n",
    "\n",
    "    blurred = cv2.blur(original.copy(), (3,3))\n",
    "\n",
    "    original_g = cv2.cvtColor(original, cv2.COLOR_RGB2GRAY)\n",
    "    blurred_g = cv2.cvtColor(blurred, cv2.COLOR_RGB2GRAY)\n",
    "\n",
    "    kp_orig = detector.detect(original, None)\n",
    "    kp_blur = detector.detect(blurred, None)\n",
    "\n",
    "    print('Keypoint count:', len(kp_orig), len(kp_blur), len(kp_orig) / len(kp_blur))\n",
    "    #print('Laplacian: ', cv2.Laplacian(original_g, cv2.CV_64F).var(), cv2.Laplacian(blurred_g, cv2.CV_64F).var())\n",
    "\n",
    "    cv2.drawKeypoints(original_g, kp_orig, original)\n",
    "    cv2.drawKeypoints(blurred_g, kp_blur, blurred)\n",
    "\n",
    "    #lap = cv2.Laplacian(original_g, cv2.CV_64F).var()\n",
    "    #if lap < 150:\n",
    "    #    print('Laplacian:', lap)\n",
    "\n",
    "    #filtered = signal.convolve(target, win, mode='same')\n",
    "\n",
    "    plt.figure(figsize=(20,20))\n",
    "    plt.subplot(1, 2, 1)\n",
    "    plt.title('Target')\n",
    "    plt.imshow(original)\n",
    "    plt.subplot(1, 2, 2)\n",
    "    plt.title('')\n",
    "    plt.imshow(blurred)\n",
    "    plt.axis('off')\n",
    "        \n",
    "    plt.show()\n",
    "    \n",
    "    #break"
   ]
  }
 ],
 "metadata": {
  "kernelspec": {
   "display_name": "Python 3",
   "language": "python",
   "name": "python3"
  },
  "language_info": {
   "codemirror_mode": {
    "name": "ipython",
    "version": 3
   },
   "file_extension": ".py",
   "mimetype": "text/x-python",
   "name": "python",
   "nbconvert_exporter": "python",
   "pygments_lexer": "ipython3",
   "version": "3.6.10"
  }
 },
 "nbformat": 4,
 "nbformat_minor": 4
}
