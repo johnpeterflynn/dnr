{
 "cells": [
  {
   "cell_type": "code",
   "execution_count": null,
   "metadata": {},
   "outputs": [],
   "source": [
    "from scipy.linalg import norm\n",
    "from scipy.spatial.transform import Rotation as R\n",
    "from sklearn.neighbors import NearestNeighbors\n",
    "import numpy as np\n",
    "import pandas as pd\n",
    "import matplotlib.pyplot as plt\n",
    "\n",
    "import glob\n",
    "import os"
   ]
  },
  {
   "cell_type": "code",
   "execution_count": null,
   "metadata": {},
   "outputs": [],
   "source": [
    "pose_files = glob.glob(os.path.join('data/pose', '*.txt'))\n",
    "pose_files.sort()"
   ]
  },
  {
   "cell_type": "code",
   "execution_count": null,
   "metadata": {},
   "outputs": [],
   "source": [
    "def get_train_val_split(pose_files, skip, max_index=len(pose_files), stride=1):\n",
    "    pose_files = pose_files[0:max_index:stride]\n",
    "    train_filenames = [pose_files[i] for i in range(len(pose_files)) if (i % skip) != 0]\n",
    "    val_filenames = [pose_files[i] for i in range(len(pose_files)) if (i % skip) == 0]\n",
    "    \n",
    "    return train_filenames, val_filenames"
   ]
  },
  {
   "cell_type": "code",
   "execution_count": null,
   "metadata": {},
   "outputs": [],
   "source": [
    "def load_poses(pose_files):\n",
    "    rots = []\n",
    "    ts = []\n",
    "    for file in pose_files:\n",
    "        with open(file) as csv_file:\n",
    "            data = pd.read_csv(csv_file, delimiter=' ', index_col=None, header=None)\n",
    "            \n",
    "            rot = np.array(data.values[0:3,0:3])\n",
    "            t = np.array(data.values[0:3,-1])\n",
    "            rots.append(rot)\n",
    "            ts.append(t)\n",
    "    return rots, ts"
   ]
  },
  {
   "cell_type": "code",
   "execution_count": null,
   "metadata": {},
   "outputs": [],
   "source": [
    "def get_nn_indices(neighbors, items):\n",
    "    neigh = NearestNeighbors(n_neighbors=1)\n",
    "    neigh.fit(neighbors)\n",
    "\n",
    "    neigh_dist, neigh_index = neigh.kneighbors(items)\n",
    "    \n",
    "    return neigh_index"
   ]
  },
  {
   "cell_type": "code",
   "execution_count": null,
   "metadata": {},
   "outputs": [],
   "source": [
    "def get_rotvecs_from_matrices(rots):\n",
    "    rotvecs = []\n",
    "    for rot in rots:\n",
    "        rotvecs.append(R.from_matrix(rot).as_rotvec())\n",
    "    \n",
    "    return rotvecs"
   ]
  },
  {
   "cell_type": "code",
   "execution_count": null,
   "metadata": {},
   "outputs": [],
   "source": [
    "def unit_vector(vector):\n",
    "    \"\"\" Returns the unit vector of the vector.  \"\"\"\n",
    "    return vector / np.linalg.norm(vector)\n",
    "\n",
    "def angle_between(v1, v2):\n",
    "    \"\"\" Returns the angle in radians between vectors 'v1' and 'v2'::\n",
    "\n",
    "            >>> angle_between((1, 0, 0), (0, 1, 0))\n",
    "            1.5707963267948966\n",
    "            >>> angle_between((1, 0, 0), (1, 0, 0))\n",
    "            0.0\n",
    "            >>> angle_between((1, 0, 0), (-1, 0, 0))\n",
    "            3.141592653589793\n",
    "    \"\"\"\n",
    "    v1_u = unit_vector(v1)\n",
    "    v2_u = unit_vector(v2)\n",
    "    return np.arccos(np.clip(np.dot(v1_u, v2_u), -1.0, 1.0))\n",
    "\n",
    "\n",
    "#angles = []\n",
    "#for i, val_rot in enumerate(val_rots):\n",
    "#    angle = get_angle(val_rot, train_rots[nn_indices[i,0]])\n",
    "#    angles.append(np.rad2deg(angle))\n",
    "#\n",
    "#print(angles)"
   ]
  },
  {
   "cell_type": "code",
   "execution_count": null,
   "metadata": {},
   "outputs": [],
   "source": [
    "# Load train and validation poses\n",
    "def get_val_nn_train_angles(train_rots, val_rots, unit='deg'):\n",
    "    # Transform to axis representation\n",
    "    train_rotvecs = get_rotvecs_from_matrices(train_rots)\n",
    "    val_rotvecs = get_rotvecs_from_matrices(val_rots)\n",
    "\n",
    "    # Find nearest neighbors by angle\n",
    "    nn_indices = get_nn_indices(train_rotvecs, val_rotvecs)\n",
    "\n",
    "    # Get angles to nearest neighbords in degrees\n",
    "    angles = []\n",
    "    for i, val_rotvec in enumerate(val_rotvecs):\n",
    "        angle = angle_between(val_rotvec, train_rotvecs[nn_indices[i,0]])\n",
    "        if unit == 'deg':\n",
    "            angle = np.rad2deg(angle)\n",
    "        angles.append(angle)\n",
    "    \n",
    "    return angles"
   ]
  },
  {
   "cell_type": "code",
   "execution_count": null,
   "metadata": {},
   "outputs": [],
   "source": []
  },
  {
   "cell_type": "code",
   "execution_count": null,
   "metadata": {},
   "outputs": [],
   "source": [
    "# Display results\n",
    "tv_files = [None]*4\n",
    "tv_files[0] = get_train_val_split(pose_files, 6, 2700, 1)\n",
    "tv_files[1] = get_train_val_split(pose_files, 6, 2700, 2)\n",
    "tv_files[2] = get_train_val_split(pose_files, 6, 2700, 4)\n",
    "tv_files[3] = get_train_val_split(pose_files, 6, 2700, 8)\n",
    "\n",
    "title = 'Train:Val = {}:{} samples \\n (min, max, mean) = ({:.1f}, {:.1f}, {:.1f})'\n",
    "\n",
    "plt.figure(figsize=(15,4))\n",
    "for i in range(len(tv_files)):\n",
    "    train_files, val_files = tv_files[i]\n",
    "    train_rots, _ = load_poses(train_files)\n",
    "    val_rots, _ = load_poses(val_files)\n",
    "    angles = get_val_nn_train_angles(train_rots, val_rots, unit='deg')\n",
    "    \n",
    "    #print('Min:', np.min(angles))\n",
    "    #print('Max:', np.max(angles))\n",
    "    #print('Mean:', np.mean(angles))\n",
    "    \n",
    "    plt.subplot(1, len(tv_files), i+1)\n",
    "    plt.title(title.format(len(train_files), len(val_files), np.min(angles), np.max(angles), np.mean(angles)))\n",
    "    num_bins = 20\n",
    "    plt.hist(angles, bins=num_bins)\n",
    "    plt.xlabel('degrees')\n",
    "    plt.ylabel('count')\n",
    "plt.show()"
   ]
  },
  {
   "cell_type": "code",
   "execution_count": null,
   "metadata": {},
   "outputs": [],
   "source": []
  }
 ],
 "metadata": {
  "kernelspec": {
   "display_name": "Python 3",
   "language": "python",
   "name": "python3"
  },
  "language_info": {
   "codemirror_mode": {
    "name": "ipython",
    "version": 3
   },
   "file_extension": ".py",
   "mimetype": "text/x-python",
   "name": "python",
   "nbconvert_exporter": "python",
   "pygments_lexer": "ipython3",
   "version": "3.6.10"
  }
 },
 "nbformat": 4,
 "nbformat_minor": 4
}
