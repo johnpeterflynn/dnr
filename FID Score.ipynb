{
 "cells": [
  {
   "cell_type": "code",
   "execution_count": 1,
   "metadata": {},
   "outputs": [],
   "source": [
    "import torch\n",
    "import glob\n",
    "torch.cuda.empty_cache()"
   ]
  },
  {
   "cell_type": "code",
   "execution_count": 2,
   "metadata": {},
   "outputs": [],
   "source": [
    "%run models/metric.py\n",
    "%run models/inception.py\n",
    "%run models/fid_score.py"
   ]
  },
  {
   "cell_type": "code",
   "execution_count": 3,
   "metadata": {},
   "outputs": [],
   "source": [
    "PATH = \".\""
   ]
  },
  {
   "cell_type": "code",
   "execution_count": 4,
   "metadata": {},
   "outputs": [],
   "source": [
    "def get_sorted_scene_data_files(scene, data, file_name):\n",
    "    files = glob.glob(os.path.join('data', scene, data, file_name))\n",
    "    files.sort()\n",
    "    return files"
   ]
  },
  {
   "cell_type": "code",
   "execution_count": 8,
   "metadata": {},
   "outputs": [],
   "source": [
    "# Load a libtorch script file\n",
    "def load_libtorch_script(train_id=None, model_script_name=None, checkpoint_name='model_best'):\n",
    "    assert train_id is not None or model_script_name is not None\n",
    "    \n",
    "    if model_script_name is None:\n",
    "        model_script_name = 'DNR-{}-{}_model.pt'.format(train_id, checkpoint_name)\n",
    "    \n",
    "    model_script_path = os.path.join(PATH, 'libtorch-models', model_script_name)\n",
    "    #model_script_path = os.path.join(PATH, model_script_name)\n",
    "        \n",
    "    print(model_script_path)\n",
    "    sm_loaded = torch.jit.load(model_script_path)\n",
    "    sm_loaded.eval()\n",
    "    return sm_loaded"
   ]
  },
  {
   "cell_type": "code",
   "execution_count": 6,
   "metadata": {},
   "outputs": [],
   "source": [
    "_scene = 'scene0000_00'\n",
    "model_script_names = ['DNR-0919_030156-model_best_model.pt',\n",
    "                     'DNR-0922_171031-checkpoint-epoch{}-epoch-{}_model.pt'.format(100, 101),\n",
    "                     'DNR-0930_130233-model_best-epoch-143_model.pt']\n",
    "uv_size = (968, 1296)\n",
    "batch_size = 5\n",
    "device = 'cuda:0'"
   ]
  },
  {
   "cell_type": "code",
   "execution_count": 7,
   "metadata": {},
   "outputs": [
    {
     "name": "stderr",
     "output_type": "stream",
     "text": [
      "\r",
      "  0%|          | 0/1116 [00:00<?, ?it/s]"
     ]
    },
    {
     "name": "stdout",
     "output_type": "stream",
     "text": [
      "Computing statistics of ground truth\n"
     ]
    },
    {
     "name": "stderr",
     "output_type": "stream",
     "text": [
      "100%|██████████| 1116/1116 [00:59<00:00, 18.75it/s]\n"
     ]
    },
    {
     "name": "stdout",
     "output_type": "stream",
     "text": [
      "Computing statistics of DNR-0919_030156-model_best_model.pt\n",
      "./libtorch-models/DNR-0919_030156-model_best_model.pt\n"
     ]
    },
    {
     "name": "stderr",
     "output_type": "stream",
     "text": [
      "100%|██████████| 1116/1116 [08:50<00:00,  2.10it/s]\n"
     ]
    },
    {
     "name": "stdout",
     "output_type": "stream",
     "text": [
      "DNR-0919_030156-model_best_model.pt FID: 87.20296006202955\n",
      "Computing statistics of DNR-0922_171031-checkpoint-epoch100-epoch-101_model.pt\n",
      "./libtorch-models/DNR-0922_171031-checkpoint-epoch100-epoch-101_model.pt\n"
     ]
    },
    {
     "name": "stderr",
     "output_type": "stream",
     "text": [
      "100%|██████████| 1116/1116 [05:12<00:00,  3.57it/s]\n"
     ]
    },
    {
     "name": "stdout",
     "output_type": "stream",
     "text": [
      "DNR-0922_171031-checkpoint-epoch100-epoch-101_model.pt FID: 89.83337128484197\n",
      "Computing statistics of DNR-0930_130233-model_best-epoch-143_model.pt\n",
      "./libtorch-models/DNR-0930_130233-model_best-epoch-143_model.pt\n"
     ]
    },
    {
     "name": "stderr",
     "output_type": "stream",
     "text": [
      "100%|██████████| 1116/1116 [05:05<00:00,  3.66it/s]\n"
     ]
    },
    {
     "name": "stdout",
     "output_type": "stream",
     "text": [
      "DNR-0930_130233-model_best-epoch-143_model.pt FID: 92.43067008522667\n"
     ]
    }
   ],
   "source": [
    "torch.cuda.empty_cache()\n",
    "color_path = os.path.join('data', _scene, 'color')\n",
    "uv_path = os.path.join('data', _scene, 'uv/scene0000_00_vh_clean_smartuv_75_0_0_no_aspect_enclosed')\n",
    "\n",
    "fid = FIDScore(device=device)\n",
    "\n",
    "print('Computing statistics of ground truth')\n",
    "mg, sg = fid.compute_statistics_of_path(color_path, batch_size)\n",
    "torch.cuda.empty_cache()\n",
    "\n",
    "for name in model_script_names:\n",
    "    print('Computing statistics of', name)\n",
    "    with torch.no_grad():\n",
    "        model = load_libtorch_script(model_script_name=name).to(device)\n",
    "        model.eval()\n",
    "        mp, sp = fid.compute_statistics_of_model(uv_path, model, uv_size, batch_size)\n",
    "        \n",
    "    score = fid.calculate_frechet_distance(mg, sg, mp, sp)\n",
    "    torch.cuda.empty_cache()\n",
    "    \n",
    "    print(name, 'FID:', score)"
   ]
  },
  {
   "cell_type": "code",
   "execution_count": 10,
   "metadata": {},
   "outputs": [
    {
     "name": "stderr",
     "output_type": "stream",
     "text": [
      "\r",
      "  0%|          | 0/1116 [00:00<?, ?it/s]"
     ]
    },
    {
     "name": "stdout",
     "output_type": "stream",
     "text": [
      "Computing statistics of ground truth\n"
     ]
    },
    {
     "name": "stderr",
     "output_type": "stream",
     "text": [
      "100%|██████████| 1116/1116 [01:00<00:00, 18.39it/s]\n"
     ]
    },
    {
     "name": "stdout",
     "output_type": "stream",
     "text": [
      "Computing statistics of DNR-0922_171031-checkpoint-epoch100-epoch-500_model.pt\n",
      "./libtorch-models/DNR-0922_171031-checkpoint-epoch100-epoch-500_model.pt\n"
     ]
    },
    {
     "name": "stderr",
     "output_type": "stream",
     "text": [
      "100%|██████████| 1116/1116 [04:59<00:00,  3.73it/s]\n",
      "  0%|          | 0/1116 [00:00<?, ?it/s]"
     ]
    },
    {
     "name": "stdout",
     "output_type": "stream",
     "text": [
      "DNR-0922_171031-checkpoint-epoch100-epoch-500_model.pt FID: 81.12128549327406\n",
      "Computing statistics of DNR-0922_171031-checkpoint-epoch200-epoch-500_model.pt\n",
      "./libtorch-models/DNR-0922_171031-checkpoint-epoch200-epoch-500_model.pt\n"
     ]
    },
    {
     "name": "stderr",
     "output_type": "stream",
     "text": [
      "100%|██████████| 1116/1116 [05:01<00:00,  3.70it/s]\n"
     ]
    },
    {
     "name": "stdout",
     "output_type": "stream",
     "text": [
      "DNR-0922_171031-checkpoint-epoch200-epoch-500_model.pt FID: 81.12128596717343\n",
      "Computing statistics of DNR-0922_171031-checkpoint-epoch300-epoch-500_model.pt\n",
      "./libtorch-models/DNR-0922_171031-checkpoint-epoch300-epoch-500_model.pt\n"
     ]
    },
    {
     "name": "stderr",
     "output_type": "stream",
     "text": [
      "100%|██████████| 1116/1116 [04:59<00:00,  3.73it/s]\n"
     ]
    },
    {
     "name": "stdout",
     "output_type": "stream",
     "text": [
      "DNR-0922_171031-checkpoint-epoch300-epoch-500_model.pt FID: 81.12128569294146\n",
      "Computing statistics of DNR-0922_171031-checkpoint-epoch400-epoch-500_model.pt\n",
      "./libtorch-models/DNR-0922_171031-checkpoint-epoch400-epoch-500_model.pt\n"
     ]
    },
    {
     "name": "stderr",
     "output_type": "stream",
     "text": [
      "100%|██████████| 1116/1116 [04:59<00:00,  3.73it/s]\n"
     ]
    },
    {
     "name": "stdout",
     "output_type": "stream",
     "text": [
      "DNR-0922_171031-checkpoint-epoch400-epoch-500_model.pt FID: 81.12128574555766\n",
      "Computing statistics of DNR-0922_171031-checkpoint-epoch500-epoch-500_model.pt\n",
      "./libtorch-models/DNR-0922_171031-checkpoint-epoch500-epoch-500_model.pt\n"
     ]
    },
    {
     "name": "stderr",
     "output_type": "stream",
     "text": [
      "100%|██████████| 1116/1116 [04:59<00:00,  3.72it/s]\n"
     ]
    },
    {
     "name": "stdout",
     "output_type": "stream",
     "text": [
      "DNR-0922_171031-checkpoint-epoch500-epoch-500_model.pt FID: 81.12128617619186\n"
     ]
    }
   ],
   "source": [
    "torch.cuda.empty_cache()\n",
    "model_script_names = ['DNR-0922_171031-checkpoint-epoch100-epoch-500_model.pt',\n",
    "                     'DNR-0922_171031-checkpoint-epoch200-epoch-500_model.pt',\n",
    "                      'DNR-0922_171031-checkpoint-epoch300-epoch-500_model.pt',\n",
    "                      'DNR-0922_171031-checkpoint-epoch400-epoch-500_model.pt',\n",
    "                      'DNR-0922_171031-checkpoint-epoch500-epoch-500_model.pt']\n",
    "color_path = os.path.join('data', _scene, 'color')\n",
    "uv_path = os.path.join('data', _scene, 'uv/scene0000_00_vh_clean_smartuv_75_0_0_no_aspect_enclosed')\n",
    "\n",
    "fid = FIDScore(device=device)\n",
    "\n",
    "print('Computing statistics of ground truth')\n",
    "mg, sg = fid.compute_statistics_of_path(color_path, batch_size)\n",
    "torch.cuda.empty_cache()\n",
    "\n",
    "for name in model_script_names:\n",
    "    print('Computing statistics of', name)\n",
    "    with torch.no_grad():\n",
    "        model = load_libtorch_script(model_script_name=name).to(device)\n",
    "        model.eval()\n",
    "        mp, sp = fid.compute_statistics_of_model(uv_path, model, uv_size, batch_size)\n",
    "        \n",
    "    score = fid.calculate_frechet_distance(mg, sg, mp, sp)\n",
    "    torch.cuda.empty_cache()\n",
    "    \n",
    "    print(name, 'FID:', score)"
   ]
  },
  {
   "cell_type": "code",
   "execution_count": 7,
   "metadata": {},
   "outputs": [
    {
     "name": "stdout",
     "output_type": "stream",
     "text": [
      "['libtorch-models/DNR-0930_130233-model_best-epoch-76_model.pt', 'libtorch-models/DNR-0922_171031-checkpoint-epoch300-epoch-500_model.pt', 'libtorch-models/DNR-0918_151827-model_best_model.pt', 'libtorch-models/DNR-0930_115844-checkpoint-epoch100-epoch-101_model.pt', 'libtorch-models/DNR-0930_130233-checkpoint-epoch100-epoch-38_model.pt', 'libtorch-models/DNR-0922_014719-model_best_model.pt', 'libtorch-models/DNR-0820_000814-model_best_model.pt', 'libtorch-models/DNR-0921_090238-model_best_model.pt', 'libtorch-models/DNR-0917_170138-model_best_model.pt', 'libtorch-models/DNR-1006_140654-checkpoint-epoch150-epoch-151_model.pt', 'libtorch-models/DNR-0930_130233-checkpoint-epoch100-epoch-51_model.pt', 'libtorch-models/DNR-1006_144522-model_best-epoch-110_model.pt', 'libtorch-models/DNR-0922_171031-checkpoint-epoch400-epoch-500_model.pt', 'libtorch-models/DNR-0922_171031-checkpoint-epoch300-epoch-301_model.pt', 'libtorch-models/DNR-0930_130233-model_best-epoch-116_model.pt', 'libtorch-models/DNR-1006_140654-checkpoint-epoch100-epoch-101_model.pt', 'libtorch-models/DNR-0922_171031-checkpoint-epoch500-epoch-501_model.pt', 'libtorch-models/DNR-0922_171031-model_best-epoch-500_model.pt', 'libtorch-models/DNR-0827_164733-model_best_model.pt', 'libtorch-models/DNR-0922_171031-checkpoint-epoch400-epoch-401_model.pt', 'libtorch-models/DNR-0822_143713-model_best_model.pt', 'libtorch-models/DNR-0922_171031-checkpoint-epoch500-epoch-500_model.pt', 'libtorch-models/DNR-0827_091625-model_best_model.pt', 'libtorch-models/DNR-0922_171031-model_best_model.pt', 'libtorch-models/DNR-0917_121707-model_best_model.pt', 'libtorch-models/DNR-1006_140654-model_best-epoch-107_model.pt', 'libtorch-models/DNR-0922_171031-checkpoint-epoch100-epoch-101_model.pt', 'libtorch-models/DNR-0919_030156-model_best_model.pt', 'libtorch-models/DNR-0922_171031-checkpoint-epoch200-epoch-201_model.pt', 'libtorch-models/DNR-0930_130233-model_best-epoch-143_model.pt', 'libtorch-models/DNR-0922_171031-checkpoint-epoch100-epoch-500_model.pt', 'libtorch-models/DNR-0920_213506-model_best_model.pt', 'libtorch-models/DNR-0918_101609-model_best_model.pt', 'libtorch-models/DNR-1006_140654-checkpoint-epoch50-epoch-51_model.pt', 'libtorch-models/DNR-0922_171031-checkpoint-epoch200-epoch-500_model.pt']\n"
     ]
    },
    {
     "name": "stderr",
     "output_type": "stream",
     "text": [
      "\r",
      "  0%|          | 0/1116 [00:00<?, ?it/s]"
     ]
    },
    {
     "name": "stdout",
     "output_type": "stream",
     "text": [
      "Computing statistics of ground truth\n"
     ]
    },
    {
     "name": "stderr",
     "output_type": "stream",
     "text": [
      "100%|██████████| 1116/1116 [01:00<00:00, 18.47it/s]\n"
     ]
    },
    {
     "name": "stdout",
     "output_type": "stream",
     "text": [
      "Computing statistics of libtorch-models/DNR-0930_130233-model_best-epoch-76_model.pt\n",
      "./libtorch-models/DNR-0930_130233-model_best-epoch-76_model.pt\n"
     ]
    },
    {
     "name": "stderr",
     "output_type": "stream",
     "text": [
      "100%|██████████| 1116/1116 [05:00<00:00,  3.72it/s]\n"
     ]
    },
    {
     "name": "stdout",
     "output_type": "stream",
     "text": [
      "libtorch-models/DNR-0930_130233-model_best-epoch-76_model.pt FID: 97.37030823507212\n",
      "Computing statistics of libtorch-models/DNR-0922_171031-checkpoint-epoch300-epoch-500_model.pt\n",
      "./libtorch-models/DNR-0922_171031-checkpoint-epoch300-epoch-500_model.pt\n"
     ]
    },
    {
     "name": "stderr",
     "output_type": "stream",
     "text": [
      "100%|██████████| 1116/1116 [05:01<00:00,  3.70it/s]\n",
      "  0%|          | 0/1116 [00:00<?, ?it/s]"
     ]
    },
    {
     "name": "stdout",
     "output_type": "stream",
     "text": [
      "libtorch-models/DNR-0922_171031-checkpoint-epoch300-epoch-500_model.pt FID: 81.12128557432976\n",
      "Computing statistics of libtorch-models/DNR-0918_151827-model_best_model.pt\n",
      "./libtorch-models/DNR-0918_151827-model_best_model.pt\n"
     ]
    },
    {
     "name": "stderr",
     "output_type": "stream",
     "text": [
      "100%|██████████| 1116/1116 [08:43<00:00,  2.13it/s]\n",
      "  0%|          | 0/1116 [00:00<?, ?it/s]"
     ]
    },
    {
     "name": "stdout",
     "output_type": "stream",
     "text": [
      "libtorch-models/DNR-0918_151827-model_best_model.pt FID: 330.02844410168416\n",
      "Computing statistics of libtorch-models/DNR-0930_115844-checkpoint-epoch100-epoch-101_model.pt\n",
      "./libtorch-models/DNR-0930_115844-checkpoint-epoch100-epoch-101_model.pt\n"
     ]
    },
    {
     "name": "stderr",
     "output_type": "stream",
     "text": [
      "100%|██████████| 1116/1116 [05:00<00:00,  3.71it/s]\n"
     ]
    },
    {
     "name": "stdout",
     "output_type": "stream",
     "text": [
      "libtorch-models/DNR-0930_115844-checkpoint-epoch100-epoch-101_model.pt FID: 319.5532499241541\n",
      "Computing statistics of libtorch-models/DNR-0930_130233-checkpoint-epoch100-epoch-38_model.pt\n",
      "./libtorch-models/DNR-0930_130233-checkpoint-epoch100-epoch-38_model.pt\n"
     ]
    },
    {
     "name": "stderr",
     "output_type": "stream",
     "text": [
      "100%|██████████| 1116/1116 [04:59<00:00,  3.72it/s]\n"
     ]
    },
    {
     "name": "stdout",
     "output_type": "stream",
     "text": [
      "libtorch-models/DNR-0930_130233-checkpoint-epoch100-epoch-38_model.pt FID: 104.71389028003978\n",
      "Computing statistics of libtorch-models/DNR-0922_014719-model_best_model.pt\n",
      "./libtorch-models/DNR-0922_014719-model_best_model.pt\n"
     ]
    },
    {
     "name": "stderr",
     "output_type": "stream",
     "text": [
      "100%|██████████| 1116/1116 [04:59<00:00,  3.72it/s]\n"
     ]
    },
    {
     "name": "stdout",
     "output_type": "stream",
     "text": [
      "libtorch-models/DNR-0922_014719-model_best_model.pt FID: 92.8580640123356\n",
      "Computing statistics of libtorch-models/DNR-0820_000814-model_best_model.pt\n",
      "./libtorch-models/DNR-0820_000814-model_best_model.pt\n"
     ]
    },
    {
     "name": "stderr",
     "output_type": "stream",
     "text": [
      "100%|██████████| 1116/1116 [08:42<00:00,  2.13it/s]\n",
      "  0%|          | 0/1116 [00:00<?, ?it/s]"
     ]
    },
    {
     "name": "stdout",
     "output_type": "stream",
     "text": [
      "libtorch-models/DNR-0820_000814-model_best_model.pt FID: 342.23159876481424\n",
      "Computing statistics of libtorch-models/DNR-0921_090238-model_best_model.pt\n",
      "./libtorch-models/DNR-0921_090238-model_best_model.pt\n"
     ]
    },
    {
     "name": "stderr",
     "output_type": "stream",
     "text": [
      "100%|██████████| 1116/1116 [08:43<00:00,  2.13it/s]\n"
     ]
    },
    {
     "name": "stdout",
     "output_type": "stream",
     "text": [
      "libtorch-models/DNR-0921_090238-model_best_model.pt FID: 407.61910510021306\n",
      "Computing statistics of libtorch-models/DNR-0917_170138-model_best_model.pt\n",
      "./libtorch-models/DNR-0917_170138-model_best_model.pt\n"
     ]
    },
    {
     "name": "stderr",
     "output_type": "stream",
     "text": [
      "100%|██████████| 1116/1116 [08:42<00:00,  2.14it/s]\n",
      "  0%|          | 0/1116 [00:00<?, ?it/s]"
     ]
    },
    {
     "name": "stdout",
     "output_type": "stream",
     "text": [
      "libtorch-models/DNR-0917_170138-model_best_model.pt FID: 333.1352746361637\n",
      "Computing statistics of libtorch-models/DNR-1006_140654-checkpoint-epoch150-epoch-151_model.pt\n",
      "./libtorch-models/DNR-1006_140654-checkpoint-epoch150-epoch-151_model.pt\n"
     ]
    },
    {
     "name": "stderr",
     "output_type": "stream",
     "text": [
      "100%|██████████| 1116/1116 [05:00<00:00,  3.72it/s]\n",
      "  0%|          | 0/1116 [00:00<?, ?it/s]"
     ]
    },
    {
     "name": "stdout",
     "output_type": "stream",
     "text": [
      "libtorch-models/DNR-1006_140654-checkpoint-epoch150-epoch-151_model.pt FID: 332.0870305817921\n",
      "Computing statistics of libtorch-models/DNR-0930_130233-checkpoint-epoch100-epoch-51_model.pt\n",
      "./libtorch-models/DNR-0930_130233-checkpoint-epoch100-epoch-51_model.pt\n"
     ]
    },
    {
     "name": "stderr",
     "output_type": "stream",
     "text": [
      "100%|██████████| 1116/1116 [05:01<00:00,  3.70it/s]\n",
      "  0%|          | 0/1116 [00:00<?, ?it/s]"
     ]
    },
    {
     "name": "stdout",
     "output_type": "stream",
     "text": [
      "libtorch-models/DNR-0930_130233-checkpoint-epoch100-epoch-51_model.pt FID: 99.87139616934144\n",
      "Computing statistics of libtorch-models/DNR-1006_144522-model_best-epoch-110_model.pt\n",
      "./libtorch-models/DNR-1006_144522-model_best-epoch-110_model.pt\n"
     ]
    },
    {
     "name": "stderr",
     "output_type": "stream",
     "text": [
      "100%|██████████| 1116/1116 [04:59<00:00,  3.72it/s]\n"
     ]
    },
    {
     "name": "stdout",
     "output_type": "stream",
     "text": [
      "libtorch-models/DNR-1006_144522-model_best-epoch-110_model.pt FID: 314.65030031279275\n",
      "Computing statistics of libtorch-models/DNR-0922_171031-checkpoint-epoch400-epoch-500_model.pt\n",
      "./libtorch-models/DNR-0922_171031-checkpoint-epoch400-epoch-500_model.pt\n"
     ]
    },
    {
     "name": "stderr",
     "output_type": "stream",
     "text": [
      "100%|██████████| 1116/1116 [05:00<00:00,  3.71it/s]\n",
      "  0%|          | 0/1116 [00:00<?, ?it/s]"
     ]
    },
    {
     "name": "stdout",
     "output_type": "stream",
     "text": [
      "libtorch-models/DNR-0922_171031-checkpoint-epoch400-epoch-500_model.pt FID: 81.12128651330966\n",
      "Computing statistics of libtorch-models/DNR-0922_171031-checkpoint-epoch300-epoch-301_model.pt\n",
      "./libtorch-models/DNR-0922_171031-checkpoint-epoch300-epoch-301_model.pt\n"
     ]
    },
    {
     "name": "stderr",
     "output_type": "stream",
     "text": [
      "100%|██████████| 1116/1116 [05:00<00:00,  3.72it/s]\n"
     ]
    },
    {
     "name": "stdout",
     "output_type": "stream",
     "text": [
      "libtorch-models/DNR-0922_171031-checkpoint-epoch300-epoch-301_model.pt FID: 85.95394188078035\n",
      "Computing statistics of libtorch-models/DNR-0930_130233-model_best-epoch-116_model.pt\n",
      "./libtorch-models/DNR-0930_130233-model_best-epoch-116_model.pt\n"
     ]
    },
    {
     "name": "stderr",
     "output_type": "stream",
     "text": [
      "100%|██████████| 1116/1116 [04:59<00:00,  3.72it/s]\n"
     ]
    },
    {
     "name": "stdout",
     "output_type": "stream",
     "text": [
      "libtorch-models/DNR-0930_130233-model_best-epoch-116_model.pt FID: 93.13306488673004\n",
      "Computing statistics of libtorch-models/DNR-1006_140654-checkpoint-epoch100-epoch-101_model.pt\n",
      "./libtorch-models/DNR-1006_140654-checkpoint-epoch100-epoch-101_model.pt\n"
     ]
    },
    {
     "name": "stderr",
     "output_type": "stream",
     "text": [
      "100%|██████████| 1116/1116 [04:59<00:00,  3.72it/s]\n"
     ]
    },
    {
     "name": "stdout",
     "output_type": "stream",
     "text": [
      "libtorch-models/DNR-1006_140654-checkpoint-epoch100-epoch-101_model.pt FID: 333.6021460154627\n",
      "Computing statistics of libtorch-models/DNR-0922_171031-checkpoint-epoch500-epoch-501_model.pt\n",
      "./libtorch-models/DNR-0922_171031-checkpoint-epoch500-epoch-501_model.pt\n"
     ]
    },
    {
     "name": "stderr",
     "output_type": "stream",
     "text": [
      "100%|██████████| 1116/1116 [04:59<00:00,  3.72it/s]\n"
     ]
    },
    {
     "name": "stdout",
     "output_type": "stream",
     "text": [
      "libtorch-models/DNR-0922_171031-checkpoint-epoch500-epoch-501_model.pt FID: 81.53260009231008\n",
      "Computing statistics of libtorch-models/DNR-0922_171031-model_best-epoch-500_model.pt\n",
      "./libtorch-models/DNR-0922_171031-model_best-epoch-500_model.pt\n"
     ]
    },
    {
     "name": "stderr",
     "output_type": "stream",
     "text": [
      "100%|██████████| 1116/1116 [04:59<00:00,  3.73it/s]\n"
     ]
    },
    {
     "name": "stdout",
     "output_type": "stream",
     "text": [
      "libtorch-models/DNR-0922_171031-model_best-epoch-500_model.pt FID: 81.12128564376985\n",
      "Computing statistics of libtorch-models/DNR-0827_164733-model_best_model.pt\n",
      "./libtorch-models/DNR-0827_164733-model_best_model.pt\n"
     ]
    },
    {
     "name": "stderr",
     "output_type": "stream",
     "text": [
      "100%|██████████| 1116/1116 [08:42<00:00,  2.13it/s]\n"
     ]
    },
    {
     "name": "stdout",
     "output_type": "stream",
     "text": [
      "libtorch-models/DNR-0827_164733-model_best_model.pt FID: 114.32808101979663\n",
      "Computing statistics of libtorch-models/DNR-0922_171031-checkpoint-epoch400-epoch-401_model.pt\n",
      "./libtorch-models/DNR-0922_171031-checkpoint-epoch400-epoch-401_model.pt\n"
     ]
    },
    {
     "name": "stderr",
     "output_type": "stream",
     "text": [
      "100%|██████████| 1116/1116 [04:59<00:00,  3.73it/s]\n"
     ]
    },
    {
     "name": "stdout",
     "output_type": "stream",
     "text": [
      "libtorch-models/DNR-0922_171031-checkpoint-epoch400-epoch-401_model.pt FID: 84.9221140652565\n",
      "Computing statistics of libtorch-models/DNR-0822_143713-model_best_model.pt\n",
      "./libtorch-models/DNR-0822_143713-model_best_model.pt\n"
     ]
    },
    {
     "name": "stderr",
     "output_type": "stream",
     "text": [
      "100%|██████████| 1116/1116 [08:42<00:00,  2.13it/s]\n",
      "  0%|          | 0/1116 [00:00<?, ?it/s]"
     ]
    },
    {
     "name": "stdout",
     "output_type": "stream",
     "text": [
      "libtorch-models/DNR-0822_143713-model_best_model.pt FID: 329.71803500463477\n",
      "Computing statistics of libtorch-models/DNR-0922_171031-checkpoint-epoch500-epoch-500_model.pt\n",
      "./libtorch-models/DNR-0922_171031-checkpoint-epoch500-epoch-500_model.pt\n"
     ]
    },
    {
     "name": "stderr",
     "output_type": "stream",
     "text": [
      "100%|██████████| 1116/1116 [05:00<00:00,  3.72it/s]\n",
      "  0%|          | 0/1116 [00:00<?, ?it/s]"
     ]
    },
    {
     "name": "stdout",
     "output_type": "stream",
     "text": [
      "libtorch-models/DNR-0922_171031-checkpoint-epoch500-epoch-500_model.pt FID: 81.1212858568665\n",
      "Computing statistics of libtorch-models/DNR-0827_091625-model_best_model.pt\n",
      "./libtorch-models/DNR-0827_091625-model_best_model.pt\n"
     ]
    },
    {
     "name": "stderr",
     "output_type": "stream",
     "text": [
      "100%|██████████| 1116/1116 [08:44<00:00,  2.13it/s]\n"
     ]
    },
    {
     "name": "stdout",
     "output_type": "stream",
     "text": [
      "libtorch-models/DNR-0827_091625-model_best_model.pt FID: 150.92287913424093\n",
      "Computing statistics of libtorch-models/DNR-0922_171031-model_best_model.pt\n",
      "./libtorch-models/DNR-0922_171031-model_best_model.pt\n"
     ]
    },
    {
     "name": "stderr",
     "output_type": "stream",
     "text": [
      "100%|██████████| 1116/1116 [05:00<00:00,  3.72it/s]\n",
      "  0%|          | 0/1116 [00:00<?, ?it/s]"
     ]
    },
    {
     "name": "stdout",
     "output_type": "stream",
     "text": [
      "libtorch-models/DNR-0922_171031-model_best_model.pt FID: 81.12128563780647\n",
      "Computing statistics of libtorch-models/DNR-0917_121707-model_best_model.pt\n",
      "./libtorch-models/DNR-0917_121707-model_best_model.pt\n"
     ]
    },
    {
     "name": "stderr",
     "output_type": "stream",
     "text": [
      "100%|██████████| 1116/1116 [08:42<00:00,  2.13it/s]\n",
      "  0%|          | 0/1116 [00:00<?, ?it/s]"
     ]
    },
    {
     "name": "stdout",
     "output_type": "stream",
     "text": [
      "libtorch-models/DNR-0917_121707-model_best_model.pt FID: 325.7193532927862\n",
      "Computing statistics of libtorch-models/DNR-1006_140654-model_best-epoch-107_model.pt\n",
      "./libtorch-models/DNR-1006_140654-model_best-epoch-107_model.pt\n"
     ]
    },
    {
     "name": "stderr",
     "output_type": "stream",
     "text": [
      "100%|██████████| 1116/1116 [05:01<00:00,  3.70it/s]\n"
     ]
    },
    {
     "name": "stdout",
     "output_type": "stream",
     "text": [
      "libtorch-models/DNR-1006_140654-model_best-epoch-107_model.pt FID: 334.29474740864674\n",
      "Computing statistics of libtorch-models/DNR-0922_171031-checkpoint-epoch100-epoch-101_model.pt\n",
      "./libtorch-models/DNR-0922_171031-checkpoint-epoch100-epoch-101_model.pt\n"
     ]
    },
    {
     "name": "stderr",
     "output_type": "stream",
     "text": [
      "100%|██████████| 1116/1116 [04:59<00:00,  3.72it/s]\n",
      "  0%|          | 0/1116 [00:00<?, ?it/s]"
     ]
    },
    {
     "name": "stdout",
     "output_type": "stream",
     "text": [
      "libtorch-models/DNR-0922_171031-checkpoint-epoch100-epoch-101_model.pt FID: 89.83337170632177\n",
      "Computing statistics of libtorch-models/DNR-0919_030156-model_best_model.pt\n",
      "./libtorch-models/DNR-0919_030156-model_best_model.pt\n"
     ]
    },
    {
     "name": "stderr",
     "output_type": "stream",
     "text": [
      "100%|██████████| 1116/1116 [08:43<00:00,  2.13it/s]\n",
      "  0%|          | 0/1116 [00:00<?, ?it/s]"
     ]
    },
    {
     "name": "stdout",
     "output_type": "stream",
     "text": [
      "libtorch-models/DNR-0919_030156-model_best_model.pt FID: 87.20295978752756\n",
      "Computing statistics of libtorch-models/DNR-0922_171031-checkpoint-epoch200-epoch-201_model.pt\n",
      "./libtorch-models/DNR-0922_171031-checkpoint-epoch200-epoch-201_model.pt\n"
     ]
    },
    {
     "name": "stderr",
     "output_type": "stream",
     "text": [
      "100%|██████████| 1116/1116 [05:00<00:00,  3.71it/s]\n"
     ]
    },
    {
     "name": "stdout",
     "output_type": "stream",
     "text": [
      "libtorch-models/DNR-0922_171031-checkpoint-epoch200-epoch-201_model.pt FID: 86.735134318409\n",
      "Computing statistics of libtorch-models/DNR-0930_130233-model_best-epoch-143_model.pt\n",
      "./libtorch-models/DNR-0930_130233-model_best-epoch-143_model.pt\n"
     ]
    },
    {
     "name": "stderr",
     "output_type": "stream",
     "text": [
      "100%|██████████| 1116/1116 [04:59<00:00,  3.73it/s]\n",
      "  0%|          | 0/1116 [00:00<?, ?it/s]"
     ]
    },
    {
     "name": "stdout",
     "output_type": "stream",
     "text": [
      "libtorch-models/DNR-0930_130233-model_best-epoch-143_model.pt FID: 92.430669773516\n",
      "Computing statistics of libtorch-models/DNR-0922_171031-checkpoint-epoch100-epoch-500_model.pt\n",
      "./libtorch-models/DNR-0922_171031-checkpoint-epoch100-epoch-500_model.pt\n"
     ]
    },
    {
     "name": "stderr",
     "output_type": "stream",
     "text": [
      "100%|██████████| 1116/1116 [05:00<00:00,  3.72it/s]\n"
     ]
    },
    {
     "name": "stdout",
     "output_type": "stream",
     "text": [
      "libtorch-models/DNR-0922_171031-checkpoint-epoch100-epoch-500_model.pt FID: 81.12128659563615\n",
      "Computing statistics of libtorch-models/DNR-0920_213506-model_best_model.pt\n",
      "./libtorch-models/DNR-0920_213506-model_best_model.pt\n"
     ]
    },
    {
     "name": "stderr",
     "output_type": "stream",
     "text": [
      "100%|██████████| 1116/1116 [08:43<00:00,  2.13it/s]\n"
     ]
    },
    {
     "name": "stdout",
     "output_type": "stream",
     "text": [
      "libtorch-models/DNR-0920_213506-model_best_model.pt FID: 358.4344601029986\n",
      "Computing statistics of libtorch-models/DNR-0918_101609-model_best_model.pt\n",
      "./libtorch-models/DNR-0918_101609-model_best_model.pt\n"
     ]
    },
    {
     "name": "stderr",
     "output_type": "stream",
     "text": [
      "100%|██████████| 1116/1116 [08:43<00:00,  2.13it/s]\n",
      "  0%|          | 0/1116 [00:00<?, ?it/s]"
     ]
    },
    {
     "name": "stdout",
     "output_type": "stream",
     "text": [
      "libtorch-models/DNR-0918_101609-model_best_model.pt FID: 342.1333844093273\n",
      "Computing statistics of libtorch-models/DNR-1006_140654-checkpoint-epoch50-epoch-51_model.pt\n",
      "./libtorch-models/DNR-1006_140654-checkpoint-epoch50-epoch-51_model.pt\n"
     ]
    },
    {
     "name": "stderr",
     "output_type": "stream",
     "text": [
      "100%|██████████| 1116/1116 [04:59<00:00,  3.72it/s]\n"
     ]
    },
    {
     "name": "stdout",
     "output_type": "stream",
     "text": [
      "libtorch-models/DNR-1006_140654-checkpoint-epoch50-epoch-51_model.pt FID: 365.5040682736678\n",
      "Computing statistics of libtorch-models/DNR-0922_171031-checkpoint-epoch200-epoch-500_model.pt\n",
      "./libtorch-models/DNR-0922_171031-checkpoint-epoch200-epoch-500_model.pt\n"
     ]
    },
    {
     "name": "stderr",
     "output_type": "stream",
     "text": [
      "100%|██████████| 1116/1116 [05:00<00:00,  3.71it/s]\n"
     ]
    },
    {
     "name": "stdout",
     "output_type": "stream",
     "text": [
      "libtorch-models/DNR-0922_171031-checkpoint-epoch200-epoch-500_model.pt FID: 81.12128638449877\n"
     ]
    }
   ],
   "source": [
    "torch.cuda.empty_cache()\n",
    "model_script_names = glob.glob(os.path.join('libtorch-models', '*.pt'))\n",
    "print(model_script_names)\n",
    "color_path = os.path.join('data', _scene, 'color')\n",
    "uv_path = os.path.join('data', _scene, 'uv/scene0000_00_vh_clean_smartuv_75_0_0_no_aspect_enclosed')\n",
    "\n",
    "fid = FIDScore(device=device)\n",
    "\n",
    "print('Computing statistics of ground truth')\n",
    "mg, sg = fid.compute_statistics_of_path(color_path, batch_size)\n",
    "torch.cuda.empty_cache()\n",
    "\n",
    "for name in model_script_names:\n",
    "    print('Computing statistics of', name)\n",
    "    with torch.no_grad():\n",
    "        model = load_libtorch_script(model_script_name=name).to(device)\n",
    "        model.eval()\n",
    "        mp, sp = fid.compute_statistics_of_model(uv_path, model, batch_size)\n",
    "        \n",
    "    score = fid.calculate_frechet_distance(mg, sg, mp, sp)\n",
    "    torch.cuda.empty_cache()\n",
    "    \n",
    "    print(name, 'FID:', score)"
   ]
  },
  {
   "cell_type": "code",
   "execution_count": 9,
   "metadata": {},
   "outputs": [
    {
     "name": "stdout",
     "output_type": "stream",
     "text": [
      "['DNR-1006_225207-model_best-epoch-141_model.pt']\n"
     ]
    },
    {
     "name": "stderr",
     "output_type": "stream",
     "text": [
      "\r",
      "  0%|          | 0/1116 [00:00<?, ?it/s]"
     ]
    },
    {
     "name": "stdout",
     "output_type": "stream",
     "text": [
      "Computing statistics of ground truth\n"
     ]
    },
    {
     "name": "stderr",
     "output_type": "stream",
     "text": [
      "100%|██████████| 1116/1116 [01:00<00:00, 18.46it/s]\n",
      "  0%|          | 0/1116 [00:00<?, ?it/s]"
     ]
    },
    {
     "name": "stdout",
     "output_type": "stream",
     "text": [
      "Computing statistics of DNR-1006_225207-model_best-epoch-141_model.pt\n",
      "./libtorch-models/DNR-1006_225207-model_best-epoch-141_model.pt\n"
     ]
    },
    {
     "name": "stderr",
     "output_type": "stream",
     "text": [
      "100%|██████████| 1116/1116 [04:58<00:00,  3.74it/s]\n"
     ]
    },
    {
     "name": "stdout",
     "output_type": "stream",
     "text": [
      "DNR-1006_225207-model_best-epoch-141_model.pt FID: 91.48227493715189\n"
     ]
    }
   ],
   "source": [
    "torch.cuda.empty_cache()\n",
    "model_script_names = ['DNR-1006_225207-model_best-epoch-141_model.pt']\n",
    "print(model_script_names)\n",
    "color_path = os.path.join('data', _scene, 'color')\n",
    "uv_path = os.path.join('data', _scene, 'uv/scene0000_00_vh_clean_smartuv_75_0_0_no_aspect_enclosed')\n",
    "\n",
    "fid = FIDScore(device=device)\n",
    "\n",
    "print('Computing statistics of ground truth')\n",
    "mg, sg = fid.compute_statistics_of_path(color_path, batch_size)\n",
    "torch.cuda.empty_cache()\n",
    "\n",
    "for name in model_script_names:\n",
    "    print('Computing statistics of', name)\n",
    "    with torch.no_grad():\n",
    "        model = load_libtorch_script(model_script_name=name).to(device)\n",
    "        model.eval()\n",
    "        mp, sp = fid.compute_statistics_of_model(uv_path, model, uv_size, batch_size)\n",
    "        \n",
    "    score = fid.calculate_frechet_distance(mg, sg, mp, sp)\n",
    "    torch.cuda.empty_cache()\n",
    "    \n",
    "    print(name, 'FID:', score)"
   ]
  },
  {
   "cell_type": "code",
   "execution_count": null,
   "metadata": {},
   "outputs": [],
   "source": []
  }
 ],
 "metadata": {
  "kernelspec": {
   "display_name": "Python 3",
   "language": "python",
   "name": "python3"
  },
  "language_info": {
   "codemirror_mode": {
    "name": "ipython",
    "version": 3
   },
   "file_extension": ".py",
   "mimetype": "text/x-python",
   "name": "python",
   "nbconvert_exporter": "python",
   "pygments_lexer": "ipython3",
   "version": "3.6.10"
  }
 },
 "nbformat": 4,
 "nbformat_minor": 4
}
